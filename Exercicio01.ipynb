{
 "cells": [
  {
   "cell_type": "markdown",
   "metadata": {},
   "source": [
    "Exercícios01 - Lista de Exercícios de Python\n",
    " \n",
    "### Nome: Lincoln de Freitas Almeida"
   ]
  },
  {
   "cell_type": "markdown",
   "metadata": {},
   "source": [
    "### NÚMEROS E OPERAÇÕES ARITMÉTICAS \n",
    "#### 1- Faça um Programa que peça o raio de um círculo, calcule e mostre sua área. "
   ]
  },
  {
   "cell_type": "code",
   "execution_count": null,
   "metadata": {
    "collapsed": true
   },
   "outputs": [],
   "source": [
    "import math as m\n",
    "\n",
    "x = float(input(\"coloque o valor do raio: \"))\n",
    "area = m.pi * (x**2)\n",
    "print(area)"
   ]
  },
  {
   "cell_type": "markdown",
   "metadata": {},
   "source": [
    "#### 2- Faça um Programa que calcule a área de um quadrado, em seguida mostre o dobro desta área para o usuário. "
   ]
  },
  {
   "cell_type": "code",
   "execution_count": 2,
   "metadata": {},
   "outputs": [
    {
     "name": "stdout",
     "output_type": "stream",
     "text": [
      "coloque o valor do lado do quadrado: 7\n",
      "98.0\n"
     ]
    }
   ],
   "source": [
    "x = float(input(\"coloque o valor do lado do quadrado: \"))\n",
    "area = 2* (x**2)\n",
    "print(area)"
   ]
  },
  {
   "cell_type": "markdown",
   "metadata": {},
   "source": [
    "#### 3- Faça um Programa que pergunte quanto você ganha por hora e o número de horas trabalhadas no mês. \n",
    "#### - Calcule e mostre o total do seu salário no referido mês. "
   ]
  },
  {
   "cell_type": "code",
   "execution_count": null,
   "metadata": {
    "collapsed": true
   },
   "outputs": [],
   "source": [
    "x = float(input(\"coloque o valor da hora trabalhada: \"))\n",
    "y = int(input(\"coloque o número de horas trabalhadas no mês : \"))\n",
    "total = x * y\n",
    "print(f'Salário total: R$ {total}')"
   ]
  },
  {
   "cell_type": "markdown",
   "metadata": {},
   "source": [
    "#### 4- Faça um Programa que peça a temperatura em graus Farenheit, transforme e mostre a temperatura em graus Celsius. \n",
    "#### C = (5 * (F-32) / 9). "
   ]
  },
  {
   "cell_type": "code",
   "execution_count": null,
   "metadata": {
    "collapsed": true
   },
   "outputs": [],
   "source": [
    "temperatura = float(input(\"coloque a temperatura em ºF: \"))\n",
    "C = (5 * (temperatura - 32)/9)\n",
    "print(f'Temperatura em ºC: {C}')"
   ]
  },
  {
   "cell_type": "markdown",
   "metadata": {},
   "source": [
    "#### 5- Faça um Programa que peça a temperatura em graus Celsius, transforme e mostre em graus Farenheit. "
   ]
  },
  {
   "cell_type": "code",
   "execution_count": null,
   "metadata": {
    "collapsed": true
   },
   "outputs": [],
   "source": [
    "temperatura = float(input(\"coloque a temperatura em ºC: \"))\n",
    "F = ((temperatura/5) * 9 + 32)\n",
    "print(f'Temperatura em ºF: {F}')"
   ]
  },
  {
   "cell_type": "markdown",
   "metadata": {},
   "source": [
    "#### 6- Faça um Programa que peça 2 números inteiros e um número real. Calcule e mostre: \n",
    "#### - O produto do dobro do primeiro com metade do segundo. \n",
    "#### - A soma do triplo do primeiro com o terceiro. \n",
    "#### - O terceiro elevado ao cubo. "
   ]
  },
  {
   "cell_type": "code",
   "execution_count": null,
   "metadata": {
    "collapsed": true
   },
   "outputs": [],
   "source": [
    "a = int(input(\"coloque um número inteiro: \"))\n",
    "b = int(input(\"coloque um número inteiro: \"))\n",
    "c = float(input(\"coloque um número real: \"))\n",
    "\n",
    "primeiro = ((a * 2) * (b/2))\n",
    "segundo = ((a * 3) + (c))\n",
    "terceiro = (c ** 3)\n",
    "\n",
    "lista = [primeiro, segundo, terceiro]\n",
    "\n",
    "for i in lista:\n",
    "    print(float(i))"
   ]
  },
  {
   "cell_type": "markdown",
   "metadata": {},
   "source": [
    "#### 7- João Papo-de-Pescador, homem de bem, comprou um microcomputador para controlar o rendimento diário de seu trabalho. \n",
    "#### Toda vez que ele traz um peso de peixes maior que o estabelecido pelo regulamento de pesca do estado de São Paulo (50 quilos) deve pagar uma multa de R$ 4,00 por quilo excedente. \n",
    "#### João precisa que você faça um programa que leia a variável peso (peso de peixes) e verifique se há excesso. \n",
    "#### Se houver, gravar na variável excesso e na variável multa o valor da multa que João deverá pagar. \n",
    "#### Caso contrário mostrar tais variáveis com o conteúdo ZERO. "
   ]
  },
  {
   "cell_type": "code",
   "execution_count": null,
   "metadata": {
    "collapsed": true
   },
   "outputs": [],
   "source": [
    "peso = float(input(\"Coloque o valor do peso dos peixes coletados: \"))\n",
    "if(peso > 50):\n",
    "    excesso = peso - 50\n",
    "    multa = excesso * 4\n",
    "else:\n",
    "    excesso = 0\n",
    "    multa = 0\n",
    "print(30 * '-')\n",
    "print(f'Peso dos peixes: {peso}')\n",
    "print(f'Valor do excesso: {excesso}')\n",
    "print(f'Valor da multa: {multa}')"
   ]
  },
  {
   "cell_type": "markdown",
   "metadata": {},
   "source": [
    "#### 8- Faça um Programa que pergunte quanto você ganha por hora e o número de horas trabalhadas no mês. \n",
    "#### Calcule e mostre o total do seu salário no referido mês, sabendo-se que são descontados 11% para o Imposto de Renda, 8% para o INSS e 5% para o sindicato, faça um programa que nos dê: \n",
    "#### - Salário bruto. \n",
    "#### - Quanto pagou ao INSS. \n",
    "#### - Quanto pagou ao sindicato. \n",
    "#### - O salário líquido. \n",
    "#### - Calcule os descontos e o salário líquido, conforme a tabela abaixo: \n",
    "#### + Salário Bruto :  \n",
    "#### - IR (11%) :  \n",
    "#### - INSS (8%) :  \n",
    "#### - Sindicato ( 5%) :  \n",
    "#### = Salário Liquido :  \n",
    "#### Obs.: Salário Bruto - Descontos = Salário Líquido. "
   ]
  },
  {
   "cell_type": "code",
   "execution_count": null,
   "metadata": {
    "collapsed": true
   },
   "outputs": [],
   "source": [
    "x = float(input(\"Coloque o valor da hora trabalhada: \"))\n",
    "y = int(input(\"Coloque o número de horas trabalhadas no mês : \"))\n",
    "\n",
    "sl_bruto = x * y\n",
    "\n",
    "IR = sl_bruto * 0.11\n",
    "INSS = sl_bruto * 0.08\n",
    "SIND = sl_bruto * 0.05\n",
    "desconto = IR + INSS + SIND\n",
    "\n",
    "sl_liquido = sl_bruto - desconto\n",
    "print(f'Salário líquido no mês: {sl_liquido}')"
   ]
  },
  {
   "cell_type": "markdown",
   "metadata": {},
   "source": [
    "### STRINGS \n",
    "#### 9- Faça um programa que leia 2 strings e informe o conteúdo delas seguido do seu comprimento. \n",
    "#### Informe também se as duas strings possuem o mesmo comprimento e são iguais ou diferentes no conteúdo. \n",
    "#### Exemplo: \n",
    "#### String 1: Brasil Hexa 2018 \n",
    "#### String 2: Brasil! Hexa 2018! \n",
    "#### Tamanho de \"Brasil Hexa 2018\": 16 caracteres \n",
    "#### Tamanho de \"Brasil! Hexa 2018!\": 18 caracteres \n",
    "#### As duas strings são de tamanhos diferentes. \n",
    "#### As duas strings possuem conteúdo diferente. "
   ]
  },
  {
   "cell_type": "code",
   "execution_count": null,
   "metadata": {
    "collapsed": true
   },
   "outputs": [],
   "source": [
    "a =  input(\"Adicione a primeira frase ou palavra: \")\n",
    "b = input(\"Adicione a segunda frase ou palavra: \")\n",
    "\n",
    "if (len(a) == len(b)):\n",
    "    print(\"As duas strings possuem tamanho igual!\")\n",
    "else:\n",
    "    print(\"As duas strings possuem tamanho diferente!\")\n",
    "\n",
    "if (a == b):\n",
    "    print(\"As duas strings possuem conteúdo igual!\")\n",
    "else:\n",
    "    print(\"As duas strings possuem conteúdo diferente!\")"
   ]
  },
  {
   "cell_type": "markdown",
   "metadata": {},
   "source": [
    "#### 10- Faça um programa que permita ao usuário digitar o seu nome e em seguida mostre o nome do usuário de trás para frente utilizando somente letras maiúsculas. \n",
    "#### Dica: lembre−se que ao informar o nome o usuário pode digitar letras maiúsculas ou minúsculas. \n",
    "#### Observação: não use loops. "
   ]
  },
  {
   "cell_type": "code",
   "execution_count": null,
   "metadata": {
    "collapsed": true
   },
   "outputs": [],
   "source": [
    "nome = input(\"Coloque seu nome: \")\n",
    "maiusculo = nome.upper()\n",
    "print(maiusculo[-1::-1])"
   ]
  },
  {
   "cell_type": "markdown",
   "metadata": {},
   "source": [
    "#### 11- Faça um programa que solicite a data de nascimento (dd/mm/aaaa) do usuário e imprima a data com o nome do mês por extenso. \n",
    "#### Data de Nascimento: 29/10/1973 \n",
    "#### Você nasceu em  29 de Outubro de 1973. "
   ]
  },
  {
   "cell_type": "code",
   "execution_count": null,
   "metadata": {
    "collapsed": true
   },
   "outputs": [],
   "source": [
    "dia, mes, ano = input(\"Coloque a data de nascimento: \").split(\"/\")\n",
    "meses = ['Janeiro', 'Fevereiro', 'Março', 'Abril', 'Maio', 'Junho', 'Julho', \n",
    "         'Agosto', 'Setembro', 'Outubro', 'Novembro', 'Dezembro']\n",
    "if(int(dia) <= 31):\n",
    "    if(int(mes) <= 12):\n",
    "        m = meses[int(mes) - 1]\n",
    "        print(\"Você nasceu em %d de %s de %d\" %(int(dia), m, int(ano)))\n",
    "    else:\n",
    "        print(\"Adicione um mês válido\")\n",
    "else:\n",
    "    print(\"Adicione um dia válido\")\n",
    "    \n",
    "\n"
   ]
  },
  {
   "cell_type": "markdown",
   "metadata": {},
   "source": [
    "#### 12- Leet é uma forma de se escrever o alfabeto latino usando outros símbolos em lugar das letras, como números por exemplo. \n",
    "#### A própria palavra leet admite muitas variações, como l33t ou 1337. \n",
    "#### O uso do leet reflete uma subcultura relacionada ao mundo dos jogos de computador e internet, sendo muito usada para confundir os iniciantes e afirmar-se como parte de um grupo. \n",
    "#### Pesquise sobre as principais formas de traduzir as letras. \n",
    "#### Depois, faça um programa que peça uma texto e transforme-o para a grafia leet speak. "
   ]
  },
  {
   "cell_type": "code",
   "execution_count": null,
   "metadata": {
    "collapsed": true
   },
   "outputs": [],
   "source": [
    "#IMPORTO A BIBLIOTECA (MODULO) QUE CONTEM OS CARACTERES DO ALFABETO.\n",
    "import string as s\n",
    "\n",
    "#SETANDO OS PRIMEIROS VALORES DAS VARIÁVEIS.\n",
    "cont = 0\n",
    "dicionario = {}\n",
    "alfabeto_ascii = list(s.ascii_uppercase)\n",
    "alfabeto_leet = ['4', '8', '(', '|)', '3','|=', '6', ']-[', '1',\n",
    "                '_|', '|<', '|', '|v|', '|\\|', '0', '|º', '(,)', '|2',\n",
    "                '5', '7', '|_|','\\/', '\\/\\/', '><', '`/', '2']\n",
    "\n",
    "#CRIANDO O DICIONÁRIO COM AS LISTAS DO TIPO - KEY:VALUE.\n",
    "while cont < len(alfabeto_ascii):\n",
    "    x = alfabeto_ascii[cont]\n",
    "    dicionario[x] = alfabeto_leet[cont]\n",
    "    cont += 1\n",
    "\n",
    "#PROCESSANDO\n",
    "palavra = input(\"Coloque uma palavra: \")\n",
    "n_palavra = palavra.upper()\n",
    "\n",
    "for k,v in dicionario.items():\n",
    "    n_palavra = n_palavra.replace(k,v)\n",
    "\n",
    "#IMPRIMINDO\n",
    "print(\"Leet: %s\" %(n_palavra))\n",
    "    \n"
   ]
  }
],
 "metadata": {
  "kernelspec": {
   "display_name": "Python 3",
   "language": "python",
   "name": "python3"
  },
  "language_info": {
   "codemirror_mode": {
    "name": "ipython",
    "version": 3
   },
   "file_extension": ".py",
   "mimetype": "text/x-python",
   "name": "python",
   "nbconvert_exporter": "python",
   "pygments_lexer": "ipython3",
   "version": "3.6.5"
  }
 },
 "nbformat": 4,
 "nbformat_minor": 2
}
